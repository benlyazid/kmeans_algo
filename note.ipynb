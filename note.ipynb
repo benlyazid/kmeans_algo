{
 "metadata": {
  "language_info": {
   "codemirror_mode": {
    "name": "ipython",
    "version": 3
   },
   "file_extension": ".py",
   "mimetype": "text/x-python",
   "name": "python",
   "nbconvert_exporter": "python",
   "pygments_lexer": "ipython3",
   "version": 3
  },
  "orig_nbformat": 2
 },
 "nbformat": 4,
 "nbformat_minor": 2,
 "cells": [
  {
   "source": [
    "import Library"
   ],
   "cell_type": "markdown",
   "metadata": {}
  },
  {
   "cell_type": "code",
   "execution_count": null,
   "metadata": {},
   "outputs": [],
   "source": [
    "import pandas as pd\n",
    "import numpy as np\n",
    "import random as rd\n",
    "import matplotlib.pyplot as plt\n",
    "import math\n",
    "import copy\n",
    "COLORS = ['red', 'blue', 'green']"
   ]
  },
  {
   "source": [
    "Calcule Destance between each point and the center of K_points"
   ],
   "cell_type": "markdown",
   "metadata": {}
  },
  {
   "cell_type": "code",
   "execution_count": null,
   "metadata": {},
   "outputs": [],
   "source": [
    "def destance_2_points(p0, p1):\n",
    "\tdx = (p0[0] - p1[0])**2\n",
    "\tdy = (p0[1] - p1[1])**2\n",
    "\treturn math.sqrt(dx + dy)"
   ]
  },
  {
   "source": [
    "Update the center of K_points by calculing the average of each points"
   ],
   "cell_type": "markdown",
   "metadata": {}
  },
  {
   "cell_type": "code",
   "execution_count": null,
   "metadata": {},
   "outputs": [],
   "source": [
    "def update_center_of_k_points(data_lst, k_center):\n",
    "\tnew_points = []\n",
    "\tfor i in range(len(data_lst)):\n",
    "\t\tcenter = data_lst[i]\n",
    "\t\taverage_a, average_b = 0, 0\n",
    "\t\tj = 0\n",
    "\t\tfor _ in range(len(center)):\n",
    "\t\t\tvalues = center[j]\n",
    "\t\t\tv_a = values[0]\n",
    "\t\t\tv_b = values[1]\n",
    "\t\t\taverage_a += v_a\n",
    "\t\t\taverage_b += v_b\n",
    "\t\t\tj += 1\n",
    "\t\taverage_a /= j\n",
    "\t\taverage_b /= j\t\n",
    "\t\tnew_points.append([average_a, average_b])\n",
    "\ti  = 0  \n",
    "\tfor _, k_point in k_center.iterrows():\n",
    "\t\tk_point['a'] = new_points[i][0]\n",
    "\t\tk_point['b'] = new_points[i][1]\n",
    "\t\ti += 1\n",
    "\treturn k_center"
   ]
  },
  {
   "source": [
    "Find The closest center to the point by calculing the destance"
   ],
   "cell_type": "markdown",
   "metadata": {}
  },
  {
   "cell_type": "code",
   "execution_count": null,
   "metadata": {},
   "outputs": [],
   "source": [
    "def get_the_closest_center(av, bv):\n",
    "\tglobal k_center\n",
    "\tmin_dest = -1\n",
    "\tresult_index = 0\n",
    "\ti = 0\n",
    "\tfor index, center in k_center.iterrows():\n",
    "\t\ta_center = center['a']\n",
    "\t\tb_center = center['b']\n",
    "\t\ta_dest = pow(a_center - av, 2)\n",
    "\t\tb_dest = pow(b_center - bv, 2)\n",
    "\t\tdest =  math.sqrt(a_dest + b_dest)\n",
    "\t\tif min_dest == -1 or min_dest > dest:\n",
    "\t\t\tmin_dest = dest\n",
    "\t\t\tresult_index = i\t\n",
    "\t\ti += 1\t\n",
    "\treturn result_index"
   ]
  },
  {
   "source": [
    "Assign points to the closest cluster Points centroid and put it in the list by k index"
   ],
   "cell_type": "markdown",
   "metadata": {}
  },
  {
   "cell_type": "code",
   "execution_count": null,
   "metadata": {},
   "outputs": [],
   "source": [
    "def assign_points_to_the_closeest_center():\n",
    "\tglobal k_center, data, K\n",
    "\tdata_lst = [[] for _ in range(K)]\n",
    "\tfor index, row in data.iterrows():\n",
    "\t\tav = row['a']\n",
    "\t\tbv = row['b']\n",
    "\t\tclose_one = get_the_closest_center(av, bv)\n",
    "\t\tdata_lst[close_one].append([av, bv])\n",
    "\tk_center = update_center_of_k_points(data_lst, k_center)\n",
    "\treturn data_lst"
   ]
  },
  {
   "source": [
    "Calcule The defferent between the old k_point and the new after the update"
   ],
   "cell_type": "markdown",
   "metadata": {}
  },
  {
   "cell_type": "code",
   "execution_count": null,
   "metadata": {},
   "outputs": [],
   "source": [
    "def average_of_changing(old):\n",
    "\tglobal k_center\n",
    "\told_value = []\n",
    "\tnew_value = []\n",
    "\tdest = 0\n",
    "\tfor  _, v in old.iterrows():\n",
    "\t\told_value.append([v['a'],v['b']])\n",
    "\tfor _, v in k_center.iterrows():\n",
    "\t\tnew_value.append([v['a'],v['b']])\n",
    "\tfor i in range(len(old_value)):\n",
    "\t\tdest += destance_2_points(old_value[i], new_value[i])\n",
    "\treturn dest"
   ]
  },
  {
   "source": [
    "Read The data"
   ],
   "cell_type": "markdown",
   "metadata": {}
  },
  {
   "cell_type": "code",
   "execution_count": null,
   "metadata": {},
   "outputs": [],
   "source": [
    "data =  pd.read_csv('simpleData.csv')\n",
    "K = 3\n",
    "k_center = data.sample(n=K)\n",
    "reapet = 0\n",
    "old = copy.copy(k_center)\n",
    "change = 0"
   ]
  },
  {
   "source": [
    "Reapet the K_mean algo Untel the defferent between the old points and the new == 0"
   ],
   "cell_type": "markdown",
   "metadata": {}
  },
  {
   "cell_type": "code",
   "execution_count": null,
   "metadata": {},
   "outputs": [],
   "source": [
    "while reapet == 0 or change != 0:\n",
    "\told = copy.copy(k_center)\n",
    "\treapet += 1\n",
    "\tdata_lst = assign_points_to_the_closeest_center()\n",
    "\tchange = average_of_changing(old)"
   ]
  },
  {
   "source": [
    "Show the Data"
   ],
   "cell_type": "markdown",
   "metadata": {}
  },
  {
   "cell_type": "code",
   "execution_count": null,
   "metadata": {},
   "outputs": [],
   "source": [
    "for i in range(len(data_lst)):\n",
    "\tdata = data_lst[i]\n",
    "\tfor j in range(len(data)):\n",
    "\t\tplt.scatter(data[j][0], data[j][1], c=COLORS[i])\n",
    "\n",
    "plt.xlabel(\"a_Values\")\n",
    "plt.ylabel('b_Values')\n",
    "plt.show()"
   ]
  }
 ]
}